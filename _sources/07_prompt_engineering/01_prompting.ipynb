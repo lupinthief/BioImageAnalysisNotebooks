{
 "cells": [
  {
   "cell_type": "markdown",
   "id": "9ee67a8d-c234-4427-91c9-a0dc7033657e",
   "metadata": {},
   "source": [
    "# Prompting chatGPT\n",
    "In this notebook we will send basic prompts to chatGPT and receive answers. We will write a small `prompt` helper function that makes it more accessible."
   ]
  },
  {
   "cell_type": "code",
   "execution_count": 1,
   "id": "3b7ff58a-4c07-431b-b123-543023f75b75",
   "metadata": {},
   "outputs": [],
   "source": [
    "import openai"
   ]
  },
  {
   "cell_type": "markdown",
   "id": "33f1bf93-26e8-4d10-bd57-6ade5afdcd7f",
   "metadata": {},
   "source": [
    "A basic prompt requires to define the model we will be using as well as the role we have and the content/message we would like to be responded to. "
   ]
  },
  {
   "cell_type": "code",
   "execution_count": 2,
   "id": "4206723e-8bee-4289-b950-c71207ed8ef9",
   "metadata": {},
   "outputs": [
    {
     "data": {
      "text/plain": [
       "<OpenAIObject chat.completion id=chatcmpl-7DdKaCE0JvcvRjlyhUGbAmEEKXoPg at 0x258aa0a1810> JSON: {\n",
       "  \"choices\": [\n",
       "    {\n",
       "      \"finish_reason\": \"stop\",\n",
       "      \"index\": 0,\n",
       "      \"message\": {\n",
       "        \"content\": \"Europe has a long and complex history, with evidence of human presence dating back to around 45,000 BCE. The specific age of Europe as a distinct cultural and geographical entity is difficult to determine, as it has evolved over time through various empires, kingdoms, and political alliances. However, some historians place the beginning of modern Europe as the fall of the Roman Empire in 476 CE.\",\n",
       "        \"role\": \"assistant\"\n",
       "      }\n",
       "    }\n",
       "  ],\n",
       "  \"created\": 1683483808,\n",
       "  \"id\": \"chatcmpl-7DdKaCE0JvcvRjlyhUGbAmEEKXoPg\",\n",
       "  \"model\": \"gpt-3.5-turbo-0301\",\n",
       "  \"object\": \"chat.completion\",\n",
       "  \"usage\": {\n",
       "    \"completion_tokens\": 79,\n",
       "    \"prompt_tokens\": 13,\n",
       "    \"total_tokens\": 92\n",
       "  }\n",
       "}"
      ]
     },
     "execution_count": 2,
     "metadata": {},
     "output_type": "execute_result"
    }
   ],
   "source": [
    "response = openai.ChatCompletion.create(\n",
    "    model=\"gpt-3.5-turbo\",\n",
    "    messages=[{\"role\": \"user\", \"content\": 'How old is Europe?'}]\n",
    ")\n",
    "response"
   ]
  },
  {
   "cell_type": "markdown",
   "id": "43b6dc92-8b1c-4814-bd8a-5fe76af56c21",
   "metadata": {},
   "source": [
    "To make it more convenient we write a little helper function that allows us to retrieve the response to a message directly."
   ]
  },
  {
   "cell_type": "code",
   "execution_count": 3,
   "id": "f9406734-ba7a-4deb-8bb1-90b33c460d87",
   "metadata": {},
   "outputs": [],
   "source": [
    "def prompt(message:str, model=\"gpt-3.5-turbo\"):\n",
    "    \"\"\"A prompt helper function that sends a message to openAI\n",
    "    and returns only the text response.\n",
    "    \"\"\"\n",
    "    response = openai.ChatCompletion.create(\n",
    "        model=model,\n",
    "        messages=[{\"role\": \"user\", \"content\": message}]\n",
    "    )\n",
    "    return response['choices'][0]['message']['content']"
   ]
  },
  {
   "cell_type": "code",
   "execution_count": 4,
   "id": "43c6f1dc-fb3c-463f-a144-90b017031600",
   "metadata": {},
   "outputs": [
    {
     "name": "stdout",
     "output_type": "stream",
     "text": [
      "The countries in central Europe are:\n",
      "\n",
      "1. Austria\n",
      "2. Czech Republic\n",
      "3. Germany (some parts)\n",
      "4. Hungary\n",
      "5. Liechtenstein\n",
      "6. Poland (some parts)\n",
      "7. Slovakia\n",
      "8. Slovenia\n",
      "9. Switzerland (some parts)\n"
     ]
    }
   ],
   "source": [
    "print(prompt('Which countries are in central Europe?'))"
   ]
  },
  {
   "cell_type": "code",
   "execution_count": 5,
   "id": "ed9c0e13-2f2b-421b-8230-425507372969",
   "metadata": {},
   "outputs": [
    {
     "name": "stdout",
     "output_type": "stream",
     "text": [
      "As an AI language model, I can't make subjective judgment calls on which parts of Switzerland are or are not considered central Europe. However, geographically speaking, Switzerland is located in the heart of Europe and is often considered a central European country.\n"
     ]
    }
   ],
   "source": [
    "print(prompt('Which parts of Switzerland are not central Europe?'))"
   ]
  },
  {
   "cell_type": "markdown",
   "id": "a256a055-c5ef-4846-a370-006c8a80a119",
   "metadata": {},
   "source": [
    "## A comment on reproducibilty\n",
    "Note that prompt responses may not be very reproducible. You can execute the same prompt twice and receive different responses."
   ]
  },
  {
   "cell_type": "code",
   "execution_count": 6,
   "id": "8269c2a0-0a68-452d-9c20-1cabdaf66e1d",
   "metadata": {},
   "outputs": [
    {
     "name": "stdout",
     "output_type": "stream",
     "text": [
      "Switzerland is located entirely in central Europe. Therefore, there are no parts of Switzerland that are not in central Europe.\n"
     ]
    }
   ],
   "source": [
    "print(prompt('Which parts of Switzerland are not central Europe?'))"
   ]
  },
  {
   "cell_type": "code",
   "execution_count": null,
   "id": "47f85f74-7742-4660-a60e-83e7c310b8f9",
   "metadata": {},
   "outputs": [],
   "source": []
  }
 ],
 "metadata": {
  "kernelspec": {
   "display_name": "Python 3 (ipykernel)",
   "language": "python",
   "name": "python3"
  },
  "language_info": {
   "codemirror_mode": {
    "name": "ipython",
    "version": 3
   },
   "file_extension": ".py",
   "mimetype": "text/x-python",
   "name": "python",
   "nbconvert_exporter": "python",
   "pygments_lexer": "ipython3",
   "version": "3.9.15"
  }
 },
 "nbformat": 4,
 "nbformat_minor": 5
}
