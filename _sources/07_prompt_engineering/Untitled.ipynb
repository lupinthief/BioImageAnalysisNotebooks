{
 "cells": [
  {
   "cell_type": "code",
   "execution_count": 1,
   "id": "130194da-9a7b-4d5d-92fe-af733efb56c8",
   "metadata": {},
   "outputs": [],
   "source": [
    "from bia_bob import bob"
   ]
  },
  {
   "cell_type": "code",
   "execution_count": 2,
   "id": "a75d748e-0b96-4c54-8ebd-cfbc90267f52",
   "metadata": {},
   "outputs": [],
   "source": [
    "from skimage.io import imread\n",
    "from skimage.filters import threshold_otsu\n",
    "from skimage.measure import label\n",
    "\n",
    "image = imread('c:/structure/data/blobs.tif')\n",
    "binary = image > threshold_otsu(image)\n",
    "labels = label(binary)"
   ]
  },
  {
   "cell_type": "code",
   "execution_count": 3,
   "id": "302f7454-96c3-4ccb-8ac4-7b40bf7aac02",
   "metadata": {},
   "outputs": [
    {
     "data": {
      "text/markdown": [
       "The steps include:\n",
       "1. Load the pyclesperanto library.\n",
       "2. Use the 'dilate_labels' function of this library to expand each unique label in the 'labels' variable by 5 pixels.\n",
       "\n",
       "Here is the Python code that achieves this:"
      ],
      "text/plain": [
       "<IPython.core.display.Markdown object>"
      ]
     },
     "metadata": {},
     "output_type": "display_data"
    }
   ],
   "source": [
    "%%bob \n",
    "take the 'labels' image and expand the labels by 5 pixels using pyclesperanto."
   ]
  },
  {
   "cell_type": "code",
   "execution_count": null,
   "id": "7d5ab2ae-3362-478b-9ae7-2da443b5b4a7",
   "metadata": {},
   "outputs": [],
   "source": [
    "import pyclesperanto_prototype as cle\n",
    "\n",
    "# Dilate the 'labels' image by 5 pixels.\n",
    "dilated_labels = cle.dilate_labels(labels, size=5)"
   ]
  },
  {
   "cell_type": "code",
   "execution_count": 4,
   "id": "1f7c3b74-c054-46aa-beac-3a7ddd0539e1",
   "metadata": {},
   "outputs": [
    {
     "data": {
      "text/markdown": [
       "The steps to execute this action are:\n",
       "\n",
       "1. Importing the required Python libraries, i.e., skimage.morphology for dilation and skimage.measure for label operations.\n",
       "2. Using binary dilation operation from skimage.morphology for each unique label in 'labels'.\n",
       "3. After dilation, some labels may touch each other. Therefore, we re-label the image to ensure each individual region has a unique label.\n",
       "\n",
       "Here is the Python code that executes these steps:"
      ],
      "text/plain": [
       "<IPython.core.display.Markdown object>"
      ]
     },
     "metadata": {},
     "output_type": "display_data"
    }
   ],
   "source": [
    "%%bob \n",
    "take the 'labels' image and expand the labels by 5 pixels using skimage."
   ]
  },
  {
   "cell_type": "code",
   "execution_count": null,
   "id": "6e2e4d2b-a311-456f-a5b4-a613c24c6faa",
   "metadata": {},
   "outputs": [],
   "source": [
    "from skimage import morphology, measure\n",
    "import numpy as np\n",
    "\n",
    "# Initialize an empty array for the dilated labels\n",
    "dilated_labels = np.zeros_like(labels)\n",
    "\n",
    "# Apply binary dilation from skimage for each unique label\n",
    "for label in np.unique(labels):\n",
    "    if label == 0:\n",
    "        continue\n",
    "    mask = labels == label\n",
    "    dilated_mask = morphology.binary_dilation(mask, morphology.disk(5))\n",
    "    label_mask = measure.label(dilated_mask)\n",
    "    dilated_labels[label_mask > 0] = label"
   ]
  },
  {
   "cell_type": "code",
   "execution_count": null,
   "id": "4630980f-e3f7-4b7c-b2d0-34b9bd045b35",
   "metadata": {},
   "outputs": [],
   "source": []
  }
 ],
 "metadata": {
  "kernelspec": {
   "display_name": "Python 3 (ipykernel)",
   "language": "python",
   "name": "python3"
  },
  "language_info": {
   "codemirror_mode": {
    "name": "ipython",
    "version": 3
   },
   "file_extension": ".py",
   "mimetype": "text/x-python",
   "name": "python",
   "nbconvert_exporter": "python",
   "pygments_lexer": "ipython3",
   "version": "3.9.16"
  }
 },
 "nbformat": 4,
 "nbformat_minor": 5
}
