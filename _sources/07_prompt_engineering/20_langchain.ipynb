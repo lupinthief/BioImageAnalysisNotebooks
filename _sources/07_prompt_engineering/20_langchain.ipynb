{
 "cells": [
  {
   "cell_type": "markdown",
   "id": "b97b3b00-8ff4-4e1b-b7c7-709f87aabc37",
   "metadata": {},
   "source": [
    "## Prompting tasks using LangChain\n",
    "In this notebook we demonstrate how to prompt for executing tasks using chatGPT and [LangChain](https://github.com/hwchase17/langchain). Using English language, we ask for doing something with data, and LangChain will execute the task.\n",
    "\n",
    "This example is a modified example from the [LangChain documentation](https://python.langchain.com/en/latest/modules/agents/agents/examples/chat_conversation_agent.html)"
   ]
  },
  {
   "cell_type": "code",
   "execution_count": 1,
   "id": "f4ae3a80-b6ea-4409-95b7-caecd4e4211c",
   "metadata": {},
   "outputs": [],
   "source": [
    "from langchain.agents import Tool\n",
    "from langchain.memory import ConversationBufferMemory\n",
    "from langchain.chat_models import ChatOpenAI\n",
    "from langchain.utilities import SerpAPIWrapper\n",
    "from langchain.agents import initialize_agent\n",
    "from langchain.agents import AgentType"
   ]
  },
  {
   "cell_type": "markdown",
   "id": "6b78c8e5-58d1-4750-b659-e639a2b99d2f",
   "metadata": {},
   "source": [
    "To demonstrate how this works, we define three functions that modify a string."
   ]
  },
  {
   "cell_type": "code",
   "execution_count": 2,
   "id": "c52e83ba-48ce-40ea-85a3-31539c72e8f7",
   "metadata": {},
   "outputs": [],
   "source": [
    "def upper_case(text:str):\n",
    "    return text.upper()\n",
    "\n",
    "def lower_case(text:str):\n",
    "    return text.lower()\n",
    "\n",
    "def reverse(text:str):\n",
    "    return text[::-1]"
   ]
  },
  {
   "cell_type": "markdown",
   "id": "cb58289f-fe7b-4760-b3dd-96aefe2438a8",
   "metadata": {
    "tags": []
   },
   "source": [
    "Furthermore, we define a list of `Tool`s where each of the above given functions have a description attached to. This description guides the language model later when it needs to select the right function for executing the task."
   ]
  },
  {
   "cell_type": "code",
   "execution_count": 3,
   "id": "921b5b61-51a8-48d6-be33-22be70fc2cba",
   "metadata": {},
   "outputs": [],
   "source": [
    "tools = [\n",
    "    Tool(\n",
    "        name=\"Upper case\",\n",
    "        func=upper_case,\n",
    "        description=\"Useful for making a text uppercase or capital letters.\"\n",
    "    ),\n",
    "    Tool(\n",
    "        name=\"Lower case\",\n",
    "        func=lower_case,\n",
    "        description=\"Useful for making a text lowercase or small letters.\"\n",
    "    ),\n",
    "    Tool(\n",
    "        name=\"Reverse\",\n",
    "        func=reverse,\n",
    "        description=\"Useful for making reversing order of a text.\"\n",
    "    ),\n",
    "]"
   ]
  },
  {
   "cell_type": "markdown",
   "id": "c0524eb1-7633-45e7-982b-1c2cc5af0b16",
   "metadata": {},
   "source": [
    "We create some memory and a large language model based on OpenAI's chatGPT."
   ]
  },
  {
   "cell_type": "code",
   "execution_count": 4,
   "id": "5d032bf0-49d1-42d4-9654-394a9e660996",
   "metadata": {},
   "outputs": [],
   "source": [
    "memory = ConversationBufferMemory(memory_key=\"chat_history\", return_messages=True)\n",
    "llm=ChatOpenAI(temperature=0)"
   ]
  },
  {
   "cell_type": "markdown",
   "id": "7bda4152-8cd8-4257-8e7a-e31fca49ffad",
   "metadata": {
    "tags": []
   },
   "source": [
    "Given the list of tools, the large language model and the memory, we can create an agent."
   ]
  },
  {
   "cell_type": "code",
   "execution_count": 5,
   "id": "28afdf8e-87f2-44a7-9f8d-ef188e0f13b5",
   "metadata": {},
   "outputs": [],
   "source": [
    "agent = initialize_agent(\n",
    "    tools, \n",
    "    llm, \n",
    "    agent=AgentType.CHAT_CONVERSATIONAL_REACT_DESCRIPTION, \n",
    "    memory=memory\n",
    ")"
   ]
  },
  {
   "cell_type": "markdown",
   "id": "23e3065d-8d55-46dc-b160-ff4349ee3beb",
   "metadata": {
    "tags": []
   },
   "source": [
    "This agent can then respond to prompts."
   ]
  },
  {
   "cell_type": "code",
   "execution_count": 6,
   "id": "5bf8d165-de48-4052-8121-d0bedac8a3e2",
   "metadata": {},
   "outputs": [
    {
     "data": {
      "text/plain": [
       "'Nice to meet you, Robert!'"
      ]
     },
     "execution_count": 6,
     "metadata": {},
     "output_type": "execute_result"
    }
   ],
   "source": [
    "agent.run(input=\"Hi, I am Robert\")"
   ]
  },
  {
   "cell_type": "markdown",
   "id": "d8afb239-93e9-4773-bcc2-37b2fda2a81b",
   "metadata": {},
   "source": [
    "As it has memory, it can remind information we gave it earlier."
   ]
  },
  {
   "cell_type": "code",
   "execution_count": 7,
   "id": "1989ffdb-afe9-4d65-bdad-3ef25aadddd3",
   "metadata": {},
   "outputs": [
    {
     "data": {
      "text/plain": [
       "'Your name is Robert'"
      ]
     },
     "execution_count": 7,
     "metadata": {},
     "output_type": "execute_result"
    }
   ],
   "source": [
    "agent.run(input=\"What's my name?\")"
   ]
  },
  {
   "cell_type": "markdown",
   "id": "752ff4fc-fc27-4360-b46f-e6aa89b376b6",
   "metadata": {
    "tags": []
   },
   "source": [
    "And we can use English language to apply one of the functions above."
   ]
  },
  {
   "cell_type": "code",
   "execution_count": 8,
   "id": "009a4a17-578a-47ff-8ddd-999cfe49c3a3",
   "metadata": {
    "tags": []
   },
   "outputs": [
    {
     "data": {
      "text/plain": [
       "\"The response to your last comment was 'treboR', which is your name reversed.\""
      ]
     },
     "execution_count": 8,
     "metadata": {},
     "output_type": "execute_result"
    }
   ],
   "source": [
    "agent.run(\"Can you reverse my name?\")"
   ]
  },
  {
   "cell_type": "markdown",
   "id": "1c5f825b-515a-435e-a7bb-ea22cba53afd",
   "metadata": {},
   "source": [
    "Multiple tasks can also be chained."
   ]
  },
  {
   "cell_type": "code",
   "execution_count": 9,
   "id": "58833309-6ea3-4d83-9471-87f83d945f2a",
   "metadata": {},
   "outputs": [
    {
     "data": {
      "text/plain": [
       "'TREBOR'"
      ]
     },
     "execution_count": 9,
     "metadata": {},
     "output_type": "execute_result"
    }
   ],
   "source": [
    "agent.run(\"Do you know my name reversed and upper case?\")"
   ]
  },
  {
   "cell_type": "markdown",
   "id": "1259eee2-b5f7-487c-b200-cf5c472838d7",
   "metadata": {},
   "source": [
    "## Exercise\n",
    "Add a `print('Hello world')` to the function `reverse`, rerun the entire notebook and execue the last cell above multiple times. Is the `Hello world` printed every time? If not, why?"
   ]
  },
  {
   "cell_type": "code",
   "execution_count": null,
   "id": "3a78de42-7960-43f0-a62b-98106e57e75a",
   "metadata": {},
   "outputs": [],
   "source": []
  }
 ],
 "metadata": {
  "kernelspec": {
   "display_name": "Python 3 (ipykernel)",
   "language": "python",
   "name": "python3"
  },
  "language_info": {
   "codemirror_mode": {
    "name": "ipython",
    "version": 3
   },
   "file_extension": ".py",
   "mimetype": "text/x-python",
   "name": "python",
   "nbconvert_exporter": "python",
   "pygments_lexer": "ipython3",
   "version": "3.9.15"
  }
 },
 "nbformat": 4,
 "nbformat_minor": 5
}
