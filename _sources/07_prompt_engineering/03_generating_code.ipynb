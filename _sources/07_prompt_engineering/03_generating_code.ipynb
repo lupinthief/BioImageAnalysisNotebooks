{
 "cells": [
  {
   "cell_type": "markdown",
   "id": "85990a02-74d0-46f2-a638-00f37d8d1b3e",
   "metadata": {},
   "source": [
    "## Generating code\n",
    "In this notebook we will produce some image processing Python code and execute it to see if it works. We will build up the query gradually to demonstrate that short concise high quality code depends on the details we present in the prompt."
   ]
  },
  {
   "cell_type": "code",
   "execution_count": 1,
   "id": "fa5e62f7-3463-41f6-bb09-11364537123e",
   "metadata": {},
   "outputs": [],
   "source": [
    "import openai\n",
    "\n",
    "def prompt(message:str, model=\"gpt-3.5-turbo\"):\n",
    "    \"\"\"A prompt helper function that sends a message to openAI\n",
    "    and returns only the text response.\n",
    "    \"\"\"\n",
    "    response = openai.ChatCompletion.create(\n",
    "        model=model,\n",
    "        messages=[{\"role\": \"user\", \"content\": message}]\n",
    "    )\n",
    "    return response['choices'][0]['message']['content']"
   ]
  },
  {
   "cell_type": "code",
   "execution_count": 2,
   "id": "ed2db129-edf7-44e0-a8da-690108889282",
   "metadata": {},
   "outputs": [
    {
     "name": "stdout",
     "output_type": "stream",
     "text": [
      "import numpy as np\n",
      "import cv2\n",
      "\n",
      "# Open the image file\n",
      "img = cv2.imread('../../data/blobs.tif', cv2.IMREAD_GRAYSCALE)\n",
      "\n",
      "# Apply Otsu's method to threshold the image\n",
      "_, th = cv2.threshold(img, 0, 255, cv2.THRESH_BINARY_INV+cv2.THRESH_OTSU)\n",
      "\n",
      "# Apply connected component labeling to the thresholded image\n",
      "num_labels, labels = cv2.connectedComponents(th)\n",
      "\n",
      "# Create a colormap for the labels\n",
      "colormap = np.zeros((num_labels, 3))\n",
      "for i in range(1, num_labels):\n",
      "    colormap[i] = np.random.randint(0, 255, size=3)\n",
      "\n",
      "# Visualize the label image\n",
      "label_image = colormap[labels]\n",
      "cv2.imshow('Label Image', label_image)\n",
      "cv2.waitKey(0)\n"
     ]
    }
   ],
   "source": [
    "query1 = \"\"\"\n",
    "Write python code to open the image file '../../data/blobs.tif' \n",
    "and threshold it using Otsu's method.\n",
    "Apply connected component labeling to the result to retrieve a label image.\n",
    "Visualize the label image.\n",
    "\"\"\"\n",
    "\n",
    "code = prompt(query1)\n",
    "print(code)"
   ]
  },
  {
   "cell_type": "code",
   "execution_count": 3,
   "id": "9259f21d-2378-427b-aff4-1beacb4d41e4",
   "metadata": {},
   "outputs": [
    {
     "name": "stdout",
     "output_type": "stream",
     "text": [
      "```python\n",
      "import numpy as np\n",
      "import cv2\n",
      "from skimage.filters import threshold_otsu\n",
      "from skimage.measure import label, regionprops\n",
      "import matplotlib.pyplot as plt\n",
      "\n",
      "# Load the image\n",
      "img = cv2.imread('../../data/blobs.tif', 0)\n",
      "\n",
      "# Threshold using Otsu's method\n",
      "thresh = threshold_otsu(img)\n",
      "binary = img > thresh\n",
      "\n",
      "# Label connected components\n",
      "label_img = label(binary)\n",
      "\n",
      "# Visualize label image\n",
      "plt.imshow(label_img, cmap='jet')\n",
      "plt.show()\n",
      "```\n"
     ]
    }
   ],
   "source": [
    "query2 = query1 + \"\"\"\n",
    "Do not explain the solution. \n",
    "Only write Python code and short comments are ok.\n",
    "\"\"\"\n",
    "code = prompt(query2)\n",
    "print(code)"
   ]
  },
  {
   "cell_type": "code",
   "execution_count": 4,
   "id": "eb41b910-e053-4848-8649-c80e460dc293",
   "metadata": {},
   "outputs": [
    {
     "name": "stdout",
     "output_type": "stream",
     "text": [
      "# Import necessary libraries\n",
      "import numpy as np\n",
      "import skimage.io as io\n",
      "from skimage.filters import threshold_otsu\n",
      "from scipy.ndimage import label\n",
      "\n",
      "# Load image \n",
      "img = io.imread('../../data/blobs.tif')\n",
      "\n",
      "# Thresholding using Otsu's method\n",
      "thresh_value = threshold_otsu(img)\n",
      "binary_img = img > thresh_value\n",
      "\n",
      "# Connected component labeling\n",
      "label_img, num_labels = label(binary_img)\n",
      "\n",
      "# Visualization\n",
      "from IPython.display import display\n",
      "display(label_img)\n"
     ]
    }
   ],
   "source": [
    "query3 = query2 + \"\"\"\n",
    "Assume the code is executed in a Jupyter notebook.\n",
    "\n",
    "Do not use any of these Python libraries:\n",
    "* OpenCV\n",
    "* Matplotlib\n",
    "* PIL\n",
    "* Pillow\n",
    "\"\"\"\n",
    "code = prompt(query3)\n",
    "print(code)"
   ]
  },
  {
   "cell_type": "code",
   "execution_count": 5,
   "id": "0e83b431-77ca-4bc2-9315-f4b8239df075",
   "metadata": {},
   "outputs": [
    {
     "name": "stdout",
     "output_type": "stream",
     "text": [
      "```python\n",
      "import numpy as np\n",
      "from skimage import io, filters, morphology\n",
      "\n",
      "# Read the image\n",
      "img = io.imread('../../data/blobs.tif')\n",
      "\n",
      "# Apply Otsu's thresholding\n",
      "threshold_value = filters.threshold_otsu(img)\n",
      "binary_image = img > threshold_value\n",
      "\n",
      "# Apply connected component labeling\n",
      "label_image = morphology.label(binary_image)\n",
      "\n",
      "# Visualize label image\n",
      "io.imshow(label_image)\n",
      "io.show()\n",
      "```\n"
     ]
    }
   ],
   "source": [
    "query4 = query3 + \"\"\"\n",
    "Keep the code short and concise.\n",
    "\"\"\"\n",
    "\n",
    "code = prompt(query4)\n",
    "print(code)"
   ]
  },
  {
   "cell_type": "markdown",
   "id": "fe56227b-6ca9-461e-b511-0ed6f45554ac",
   "metadata": {},
   "source": [
    "For completeness, we just print out the entiry query once again."
   ]
  },
  {
   "cell_type": "code",
   "execution_count": 6,
   "id": "15229887-352f-40c9-9789-32104bfb362e",
   "metadata": {},
   "outputs": [
    {
     "name": "stdout",
     "output_type": "stream",
     "text": [
      "\n",
      "Write python code to open the image file '../../data/blobs.tif' \n",
      "and threshold it using Otsu's method.\n",
      "Apply connected component labeling to the result to retrieve a label image.\n",
      "Visualize the label image.\n",
      "\n",
      "Do not explain the solution. \n",
      "Only write Python code and short comments are ok.\n",
      "\n",
      "Assume the code is executed in a Jupyter notebook.\n",
      "\n",
      "Do not use any of these Python libraries:\n",
      "* OpenCV\n",
      "* Matplotlib\n",
      "* PIL\n",
      "* Pillow\n",
      "\n",
      "Keep the code short and concise. \n",
      "Return the code as code only without markdown.\n",
      "\n"
     ]
    }
   ],
   "source": [
    "print(query4)"
   ]
  },
  {
   "cell_type": "markdown",
   "id": "05ba50f7-1b64-4faf-99de-db31f9e19c71",
   "metadata": {},
   "source": [
    "Next, we execute the code."
   ]
  },
  {
   "cell_type": "code",
   "execution_count": 8,
   "id": "4d7a9159-4c20-47c4-93bf-dc7910be6f85",
   "metadata": {},
   "outputs": [
    {
     "name": "stderr",
     "output_type": "stream",
     "text": [
      "C:\\Users\\haase\\mambaforge\\envs\\bio39\\lib\\site-packages\\skimage\\io\\_plugins\\matplotlib_plugin.py:150: UserWarning: Low image data range; displaying image with stretched contrast.\n",
      "  lo, hi, cmap = _get_display_range(image)\n"
     ]
    },
    {
     "data": {
      "image/png": "[encoded data removed]",
      "text/plain": [
       "<Figure size 640x480 with 2 Axes>"
      ]
     },
     "metadata": {},
     "output_type": "display_data"
    }
   ],
   "source": [
    "clean_code = code.replace('```python','').replace('```','')\n",
    "\n",
    "exec(clean_code)"
   ]
  },
  {
   "cell_type": "code",
   "execution_count": null,
   "id": "ce44d921-b28a-40f0-9894-22ac93bc7072",
   "metadata": {},
   "outputs": [],
   "source": []
  }
 ],
 "metadata": {
  "kernelspec": {
   "display_name": "Python 3 (ipykernel)",
   "language": "python",
   "name": "python3"
  },
  "language_info": {
   "codemirror_mode": {
    "name": "ipython",
    "version": 3
   },
   "file_extension": ".py",
   "mimetype": "text/x-python",
   "name": "python",
   "nbconvert_exporter": "python",
   "pygments_lexer": "ipython3",
   "version": "3.9.15"
  }
 },
 "nbformat": 4,
 "nbformat_minor": 5
}
